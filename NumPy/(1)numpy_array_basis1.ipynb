{
  "nbformat": 4,
  "nbformat_minor": 0,
  "metadata": {
    "colab": {
      "name": "(1)numpy_array_basis1.ipynb",
      "version": "0.3.2",
      "provenance": [],
      "include_colab_link": true
    },
    "kernelspec": {
      "display_name": "Python 2",
      "language": "python",
      "name": "python2"
    }
  },
  "cells": [
    {
      "cell_type": "markdown",
      "metadata": {
        "id": "view-in-github",
        "colab_type": "text"
      },
      "source": [
        "[View in Colaboratory](https://colab.research.google.com/github/gcobs219563/test/blob/Marc/NumPy/(1)numpy_array_basis1.ipynb)"
      ]
    },
    {
      "metadata": {
        "id": "K0udKI_uqQ50",
        "colab_type": "text"
      },
      "cell_type": "markdown",
      "source": [
        "##内容索引\n",
        "该小结主要介绍了NumPy数组的基本操作。\n",
        "\n",
        "子目1中，介绍创建和索引数组，数据类型，dtype类，自定义异构数据类型。\n",
        "\n",
        "子目2中，介绍数组的索引和切片，主要是对[]运算符的操作。\n",
        "\n",
        "子目3中，介绍如何改变数组的维度，分别介绍了**ravel函数、flatten函数、transpose函数、resize函数、reshape函数的用法。**"
      ]
    },
    {
      "metadata": {
        "id": "OWM4CVrdqQ56",
        "colab_type": "code",
        "colab": {
          "base_uri": "https://localhost:8080/",
          "height": 34
        },
        "outputId": "dc558eab-00dd-487c-84ab-a61994907dd7"
      },
      "cell_type": "code",
      "source": [
        "%pylab inline"
      ],
      "execution_count": 2,
      "outputs": [
        {
          "output_type": "stream",
          "text": [
            "Populating the interactive namespace from numpy and matplotlib\n"
          ],
          "name": "stdout"
        }
      ]
    },
    {
      "metadata": {
        "id": "jR4b3zc-qQ6A",
        "colab_type": "text"
      },
      "cell_type": "markdown",
      "source": [
        "ndarray是一个多维数组对象，该对象由**实际的数据、描述这些数据的元数据**组成，大部分数组操作仅仅修改元数据部分，而不改变底层的实际数据。"
      ]
    },
    {
      "metadata": {
        "id": "fsjIgvuCqQ6B",
        "colab_type": "text"
      },
      "cell_type": "markdown",
      "source": [
        "用arange函数创建数组"
      ]
    },
    {
      "metadata": {
        "id": "dA7_MLWsqQ6C",
        "colab_type": "code",
        "colab": {
          "base_uri": "https://localhost:8080/",
          "height": 185
        },
        "outputId": "d340bf95-05ef-4b03-ad19-0ea343fd4fb6"
      },
      "cell_type": "code",
      "source": [
        "a = arange(5)\n",
        "a.dtype"
      ],
      "execution_count": 1,
      "outputs": [
        {
          "output_type": "error",
          "ename": "NameError",
          "evalue": "ignored",
          "traceback": [
            "\u001b[0;31m\u001b[0m",
            "\u001b[0;31mNameError\u001b[0mTraceback (most recent call last)",
            "\u001b[0;32m<ipython-input-1-e8c7dcac62a0>\u001b[0m in \u001b[0;36m<module>\u001b[0;34m()\u001b[0m\n\u001b[0;32m----> 1\u001b[0;31m \u001b[0ma\u001b[0m \u001b[0;34m=\u001b[0m \u001b[0marange\u001b[0m\u001b[0;34m(\u001b[0m\u001b[0;36m5\u001b[0m\u001b[0;34m)\u001b[0m\u001b[0;34m\u001b[0m\u001b[0m\n\u001b[0m\u001b[1;32m      2\u001b[0m \u001b[0ma\u001b[0m\u001b[0;34m.\u001b[0m\u001b[0mdtype\u001b[0m\u001b[0;34m\u001b[0m\u001b[0m\n",
            "\u001b[0;31mNameError\u001b[0m: name 'arange' is not defined"
          ]
        }
      ]
    },
    {
      "metadata": {
        "id": "bTKAbRy0qQ6K",
        "colab_type": "code",
        "colab": {},
        "outputId": "5bada815-c9f3-4235-91c1-98297ad2fd67"
      },
      "cell_type": "code",
      "source": [
        "a"
      ],
      "execution_count": 0,
      "outputs": [
        {
          "output_type": "execute_result",
          "data": {
            "text/plain": [
              "array([0, 1, 2, 3, 4])"
            ]
          },
          "metadata": {
            "tags": []
          },
          "execution_count": 3
        }
      ]
    },
    {
      "metadata": {
        "id": "Jvhv4yeRqQ6P",
        "colab_type": "code",
        "colab": {},
        "outputId": "408eff0f-8a85-4923-9bb8-55744fd5f94e"
      },
      "cell_type": "code",
      "source": [
        "a.shape"
      ],
      "execution_count": 0,
      "outputs": [
        {
          "output_type": "execute_result",
          "data": {
            "text/plain": [
              "(5,)"
            ]
          },
          "metadata": {
            "tags": []
          },
          "execution_count": 4
        }
      ]
    },
    {
      "metadata": {
        "id": "mH-ZITwyqQ6R",
        "colab_type": "text"
      },
      "cell_type": "markdown",
      "source": [
        "数组的shape属性返回一个元祖(tuple)，元组中的元素即NumPy数组每一个维度的大小。"
      ]
    },
    {
      "metadata": {
        "id": "_ezwz3z6qQ6S",
        "colab_type": "text"
      },
      "cell_type": "markdown",
      "source": [
        "##1. 创建多维数组\n",
        "array函数可以依据给定的对象生成数组。\n",
        "给定的对象应是类数组，如python的列表、numpy的arange函数"
      ]
    },
    {
      "metadata": {
        "id": "3Q34-cHjqQ6T",
        "colab_type": "code",
        "colab": {}
      },
      "cell_type": "code",
      "source": [
        "m = array([arange(2), arange(2)])"
      ],
      "execution_count": 0,
      "outputs": []
    },
    {
      "metadata": {
        "id": "4gQ66GLsqQ6W",
        "colab_type": "code",
        "colab": {},
        "outputId": "d0658761-83f7-4c3e-cdfd-fb2af947acbf"
      },
      "cell_type": "code",
      "source": [
        "print m\n",
        "print m.shape\n",
        "print type(m)\n",
        "print type(m.shape)"
      ],
      "execution_count": 0,
      "outputs": [
        {
          "output_type": "stream",
          "text": [
            "[[0 1]\n",
            " [0 1]]\n",
            "(2, 2)\n",
            "<type 'numpy.ndarray'>\n",
            "<type 'tuple'>\n"
          ],
          "name": "stdout"
        }
      ]
    },
    {
      "metadata": {
        "id": "JOovpzVwqQ6b",
        "colab_type": "text"
      },
      "cell_type": "markdown",
      "source": [
        "###选取元素"
      ]
    },
    {
      "metadata": {
        "id": "Iky18VvpqQ6b",
        "colab_type": "code",
        "colab": {},
        "outputId": "7cc55593-4d7e-455e-9ff6-403339342592"
      },
      "cell_type": "code",
      "source": [
        "a = array([[1,2],[3,4]])\n",
        "print a[0,0]\n",
        "print a[0,1]"
      ],
      "execution_count": 0,
      "outputs": [
        {
          "output_type": "stream",
          "text": [
            "1\n",
            "2\n"
          ],
          "name": "stdout"
        }
      ]
    },
    {
      "metadata": {
        "id": "W4bcgBOjqQ6f",
        "colab_type": "text"
      },
      "cell_type": "markdown",
      "source": [
        "###NumPy数据类型\n",
        "Numpy除了Python支持的整型、浮点型、复数型之外，还添加了很多其他的数据类型。\n",
        "\n",
        "Type\tRemarks\t   Character code\n",
        "bool_\tcompatible: Python bool\t'?'\n",
        "bool8\t8 bits\t \n",
        "Integers:\n",
        "\n",
        "byte\tcompatible: C char\t'b'\n",
        "short\tcompatible: C short\t'h'\n",
        "intc\tcompatible: C int\t'i'\n",
        "int_\tcompatible: Python int\t'l'\n",
        "longlong\tcompatible: C long long\t'q'\n",
        "intp\tlarge enough to fit a pointer\t'p'\n",
        "int8\t8 bits\t \n",
        "int16\t16 bits\t \n",
        "int32\t32 bits\t \n",
        "int64\t64 bits\t \n",
        "Unsigned integers:\n",
        "\n",
        "ubyte\tcompatible: C unsigned char\t'B'\n",
        "ushort\tcompatible: C unsigned short\t'H'\n",
        "uintc\tcompatible: C unsigned int\t'I'\n",
        "uint\tcompatible: Python int\t'L'\n",
        "ulonglong\tcompatible: C long long\t'Q'\n",
        "uintp\tlarge enough to fit a pointer\t'P'\n",
        "uint8\t8 bits\t \n",
        "uint16\t16 bits\t \n",
        "uint32\t32 bits\t \n",
        "uint64\t64 bits\t \n",
        "Floating-point numbers:\n",
        "\n",
        "half\t \t'e'\n",
        "single\tcompatible: C float\t'f'\n",
        "double\tcompatible: C double\t \n",
        "float_\tcompatible: Python float\t'd'\n",
        "longfloat\tcompatible: C long float\t'g'\n",
        "float16\t16 bits\t \n",
        "float32\t32 bits\t \n",
        "float64\t64 bits\t \n",
        "float96\t96 bits, platform?\t \n",
        "float128\t128 bits, platform?\t \n",
        "Complex floating-point numbers:\n",
        "\n",
        "csingle\t \t'F'\n",
        "complex_\tcompatible: Python complex\t'D'\n",
        "clongfloat\t \t'G'\n",
        "complex64\ttwo 32-bit floats\t \n",
        "complex128\ttwo 64-bit floats\t \n",
        "complex192\ttwo 96-bit floats, platform?\t \n",
        "complex256\ttwo 128-bit floats, platform?\t \n",
        "Any Python object:\n",
        "\n",
        "object_\tany Python object\t'O'"
      ]
    },
    {
      "metadata": {
        "id": "INFcahMTqQ6f",
        "colab_type": "text"
      },
      "cell_type": "markdown",
      "source": [
        "**每一种数据类型均有对应的类型转换函数**"
      ]
    },
    {
      "metadata": {
        "id": "67Ol4h0EqQ6g",
        "colab_type": "code",
        "colab": {},
        "outputId": "28cf122a-ad33-4878-ebf0-8ccef79ad5b4"
      },
      "cell_type": "code",
      "source": [
        "print float64(42)\n",
        "print int8(42.0)\n",
        "print bool(42)\n",
        "print float(True)"
      ],
      "execution_count": 0,
      "outputs": [
        {
          "output_type": "stream",
          "text": [
            "42.0\n",
            "42\n",
            "True\n",
            "1.0\n"
          ],
          "name": "stdout"
        }
      ]
    },
    {
      "metadata": {
        "id": "fk1YwDUgqQ6k",
        "colab_type": "code",
        "colab": {},
        "outputId": "31b31fa3-c8df-4bd8-d228-d6fecdbc83d4"
      },
      "cell_type": "code",
      "source": [
        "arange(8, dtype=uint16)"
      ],
      "execution_count": 0,
      "outputs": [
        {
          "output_type": "execute_result",
          "data": {
            "text/plain": [
              "array([0, 1, 2, 3, 4, 5, 6, 7], dtype=uint16)"
            ]
          },
          "metadata": {
            "tags": []
          },
          "execution_count": 9
        }
      ]
    },
    {
      "metadata": {
        "id": "joHz4g5_qQ6o",
        "colab_type": "text"
      },
      "cell_type": "markdown",
      "source": [
        "**复数不能转换成整数和浮点数**"
      ]
    },
    {
      "metadata": {
        "id": "DRoVz_gNqQ6q",
        "colab_type": "text"
      },
      "cell_type": "markdown",
      "source": [
        "Numpy数组中每一个元素均为相同的数据类型，现在给出单个元素所占字节"
      ]
    },
    {
      "metadata": {
        "id": "pFi_jPk6qQ6r",
        "colab_type": "code",
        "colab": {},
        "outputId": "db3ac582-8b02-435e-8294-bf2a743378f1"
      },
      "cell_type": "code",
      "source": [
        "a.dtype"
      ],
      "execution_count": 0,
      "outputs": [
        {
          "output_type": "execute_result",
          "data": {
            "text/plain": [
              "dtype('int32')"
            ]
          },
          "metadata": {
            "tags": []
          },
          "execution_count": 10
        }
      ]
    },
    {
      "metadata": {
        "id": "JdTOE7RzqQ6w",
        "colab_type": "code",
        "colab": {},
        "outputId": "01f258ec-ec3b-4157-804c-07717c26e587"
      },
      "cell_type": "code",
      "source": [
        "a.dtype.itemsize"
      ],
      "execution_count": 0,
      "outputs": [
        {
          "output_type": "execute_result",
          "data": {
            "text/plain": [
              "4"
            ]
          },
          "metadata": {
            "tags": []
          },
          "execution_count": 11
        }
      ]
    },
    {
      "metadata": {
        "id": "IvsX5X83qQ63",
        "colab_type": "text"
      },
      "cell_type": "markdown",
      "source": [
        "**dtype类的属性**"
      ]
    },
    {
      "metadata": {
        "id": "pBz6DQREqQ7A",
        "colab_type": "code",
        "colab": {},
        "outputId": "5929529d-48dc-4930-b4a0-7cb81fc2df1c"
      },
      "cell_type": "code",
      "source": [
        "t = dtype('float64')\n",
        "print t.char\n",
        "print t.type\n",
        "print t.str"
      ],
      "execution_count": 0,
      "outputs": [
        {
          "output_type": "stream",
          "text": [
            "d\n",
            "<type 'numpy.float64'>\n",
            "<f8\n"
          ],
          "name": "stdout"
        }
      ]
    },
    {
      "metadata": {
        "id": "UJM3T9wPqQ7F",
        "colab_type": "text"
      },
      "cell_type": "markdown",
      "source": [
        "str属性可以给出数据类型的字符串表示，该字符串的首个字符表示字节序，然后是字符编码，然后是所占字节数\n",
        "字节序是指位长为32和64的字（word）存储的顺序，包括大端序(big-endian)和小端序(little-endian)。\n",
        "大端序是将最高位字节存储在最低的内存地址处，用>表示；与之相反，小端序是将最低位字节存储在最低的内存地址处，用<表示。"
      ]
    },
    {
      "metadata": {
        "id": "JMvNmDcRqQ7H",
        "colab_type": "text"
      },
      "cell_type": "markdown",
      "source": [
        "**创建自定义数据类型**"
      ]
    },
    {
      "metadata": {
        "id": "_HSeHMbjqQ7I",
        "colab_type": "text"
      },
      "cell_type": "markdown",
      "source": [
        "自定义数据类型是一种异构数据类型，可以当做用来记录电子表格或数据库中一行数据的结构。\n",
        "\n",
        "下面我们创建一种自定义的异构数据类型，该数据类型包括一个用字符串记录的名字、一个用整数记录的数字以及一个用浮点数记录的价格。"
      ]
    },
    {
      "metadata": {
        "id": "CTwhyB2rqQ7J",
        "colab_type": "code",
        "colab": {}
      },
      "cell_type": "code",
      "source": [
        "t = dtype([('name', str_, 40), ('numitems', int32), ('price', float32)])"
      ],
      "execution_count": 0,
      "outputs": []
    },
    {
      "metadata": {
        "id": "UbMaebdrqQ7R",
        "colab_type": "code",
        "colab": {},
        "outputId": "aa9fb6e2-6388-42b4-f506-f8edff1f4edf"
      },
      "cell_type": "code",
      "source": [
        "t"
      ],
      "execution_count": 0,
      "outputs": [
        {
          "output_type": "execute_result",
          "data": {
            "text/plain": [
              "dtype([('name', 'S40'), ('numitems', '<i4'), ('price', '<f4')])"
            ]
          },
          "metadata": {
            "tags": []
          },
          "execution_count": 14
        }
      ]
    },
    {
      "metadata": {
        "id": "NAeyEJyoqQ7W",
        "colab_type": "code",
        "colab": {},
        "outputId": "9f8090d7-3ef7-4349-d085-250751bdb174"
      },
      "cell_type": "code",
      "source": [
        "t['name']"
      ],
      "execution_count": 0,
      "outputs": [
        {
          "output_type": "execute_result",
          "data": {
            "text/plain": [
              "dtype('S40')"
            ]
          },
          "metadata": {
            "tags": []
          },
          "execution_count": 15
        }
      ]
    },
    {
      "metadata": {
        "id": "gZ2PySF9qQ7Z",
        "colab_type": "code",
        "colab": {}
      },
      "cell_type": "code",
      "source": [
        "itemz = array([('Meaning of life DVD', 32, 3.14), ('Butter', 13, 2.72)], dtype=t)"
      ],
      "execution_count": 0,
      "outputs": []
    },
    {
      "metadata": {
        "id": "wbuUcNQMqQ7c",
        "colab_type": "code",
        "colab": {},
        "outputId": "fd096783-2b3c-49e2-853a-906d807189df"
      },
      "cell_type": "code",
      "source": [
        "itemz[1]"
      ],
      "execution_count": 0,
      "outputs": [
        {
          "output_type": "execute_result",
          "data": {
            "text/plain": [
              "('Butter', 13, 2.7200000286102295)"
            ]
          },
          "metadata": {
            "tags": []
          },
          "execution_count": 17
        }
      ]
    },
    {
      "metadata": {
        "id": "NWk6oOmrqQ7f",
        "colab_type": "text"
      },
      "cell_type": "markdown",
      "source": [
        "##2. 数组的索引和切片"
      ]
    },
    {
      "metadata": {
        "id": "1TTwvLFgqQ7g",
        "colab_type": "code",
        "colab": {},
        "outputId": "f30cf8b6-0145-4037-ec7a-87700aa2269e"
      },
      "cell_type": "code",
      "source": [
        "a = arange(9)\n",
        "#下标0-7， 以2为步长\n",
        "print a[:7:2]\n",
        "\n",
        "#以负数下标翻转数组\n",
        "print a[::-1]\n",
        "print a[::-2]"
      ],
      "execution_count": 0,
      "outputs": [
        {
          "output_type": "stream",
          "text": [
            "[0 2 4 6]\n",
            "[8 7 6 5 4 3 2 1 0]\n",
            "[8 6 4 2 0]\n"
          ],
          "name": "stdout"
        }
      ]
    },
    {
      "metadata": {
        "id": "f5T61gjdqQ7j",
        "colab_type": "text"
      },
      "cell_type": "markdown",
      "source": [
        "###多维数组的切片和索引"
      ]
    },
    {
      "metadata": {
        "id": "TfUxoTmqqQ7j",
        "colab_type": "code",
        "colab": {},
        "outputId": "0a3d7f70-ee34-40d1-e899-0aa4d8d6159c"
      },
      "cell_type": "code",
      "source": [
        "b = arange(24).reshape(2,3,4)\n",
        "print b.shape\n",
        "print b"
      ],
      "execution_count": 0,
      "outputs": [
        {
          "output_type": "stream",
          "text": [
            "(2, 3, 4)\n",
            "[[[ 0  1  2  3]\n",
            "  [ 4  5  6  7]\n",
            "  [ 8  9 10 11]]\n",
            "\n",
            " [[12 13 14 15]\n",
            "  [16 17 18 19]\n",
            "  [20 21 22 23]]]\n"
          ],
          "name": "stdout"
        }
      ]
    },
    {
      "metadata": {
        "id": "mnl_IRFZqQ7m",
        "colab_type": "text"
      },
      "cell_type": "markdown",
      "source": [
        "用三维坐标选定任意一个房间，即楼层、行号、列号"
      ]
    },
    {
      "metadata": {
        "id": "NbDJUfDwqQ7n",
        "colab_type": "code",
        "colab": {},
        "outputId": "5e472313-6396-45d0-b956-b36dba135c82"
      },
      "cell_type": "code",
      "source": [
        "#选取第一层楼所有房间\n",
        "print b[0]\n",
        "print\n",
        "print b[0, :, :]"
      ],
      "execution_count": 0,
      "outputs": [
        {
          "output_type": "stream",
          "text": [
            "[[ 0  1  2  3]\n",
            " [ 4  5  6  7]\n",
            " [ 8  9 10 11]]\n",
            "\n",
            "[[ 0  1  2  3]\n",
            " [ 4  5  6  7]\n",
            " [ 8  9 10 11]]\n"
          ],
          "name": "stdout"
        }
      ]
    },
    {
      "metadata": {
        "id": "0XDb6qpGqQ7r",
        "colab_type": "code",
        "colab": {},
        "outputId": "94c4e29f-641d-4d0b-fd65-7b56abb2395f"
      },
      "cell_type": "code",
      "source": [
        "#多个冒号用一个省略号代替\n",
        "b[0, ...]"
      ],
      "execution_count": 0,
      "outputs": [
        {
          "output_type": "execute_result",
          "data": {
            "text/plain": [
              "array([[ 0,  1,  2,  3],\n",
              "       [ 4,  5,  6,  7],\n",
              "       [ 8,  9, 10, 11]])"
            ]
          },
          "metadata": {
            "tags": []
          },
          "execution_count": 21
        }
      ]
    },
    {
      "metadata": {
        "id": "phPBr519qQ7x",
        "colab_type": "code",
        "colab": {},
        "outputId": "0171e613-0cbe-4a88-82c1-59803d9f958b"
      },
      "cell_type": "code",
      "source": [
        "#间隔选元素\n",
        "b[0,1,::2]"
      ],
      "execution_count": 0,
      "outputs": [
        {
          "output_type": "execute_result",
          "data": {
            "text/plain": [
              "array([4, 6])"
            ]
          },
          "metadata": {
            "tags": []
          },
          "execution_count": 22
        }
      ]
    },
    {
      "metadata": {
        "id": "mNrBtgZrqQ70",
        "colab_type": "code",
        "colab": {},
        "outputId": "a19f6a18-051b-4e82-f371-855ee3f29a41"
      },
      "cell_type": "code",
      "source": [
        "#多维数组执行翻转一维数组的命令，将在最前面的维度上翻转元素的顺序\n",
        "b[::-1]"
      ],
      "execution_count": 0,
      "outputs": [
        {
          "output_type": "execute_result",
          "data": {
            "text/plain": [
              "array([[[12, 13, 14, 15],\n",
              "        [16, 17, 18, 19],\n",
              "        [20, 21, 22, 23]],\n",
              "\n",
              "       [[ 0,  1,  2,  3],\n",
              "        [ 4,  5,  6,  7],\n",
              "        [ 8,  9, 10, 11]]])"
            ]
          },
          "metadata": {
            "tags": []
          },
          "execution_count": 23
        }
      ]
    },
    {
      "metadata": {
        "id": "jbd9K1otqQ72",
        "colab_type": "code",
        "colab": {},
        "outputId": "332fb0b1-a927-4831-938d-cd9f6b847a13"
      },
      "cell_type": "code",
      "source": [
        "b[::-1,::-1,::-1]"
      ],
      "execution_count": 0,
      "outputs": [
        {
          "output_type": "execute_result",
          "data": {
            "text/plain": [
              "array([[[23, 22, 21, 20],\n",
              "        [19, 18, 17, 16],\n",
              "        [15, 14, 13, 12]],\n",
              "\n",
              "       [[11, 10,  9,  8],\n",
              "        [ 7,  6,  5,  4],\n",
              "        [ 3,  2,  1,  0]]])"
            ]
          },
          "metadata": {
            "tags": []
          },
          "execution_count": 24
        }
      ]
    },
    {
      "metadata": {
        "id": "dJRc4OH9qQ75",
        "colab_type": "text"
      },
      "cell_type": "markdown",
      "source": [
        "##3. 改变数组的维度"
      ]
    },
    {
      "metadata": {
        "id": "NhoX20hOqQ75",
        "colab_type": "text"
      },
      "cell_type": "markdown",
      "source": [
        "**ravel 完成展平操作**"
      ]
    },
    {
      "metadata": {
        "id": "YruPTfm7qQ77",
        "colab_type": "code",
        "colab": {},
        "outputId": "c1c4f71c-727a-4258-be13-681af45e748e"
      },
      "cell_type": "code",
      "source": [
        "b.ravel()"
      ],
      "execution_count": 0,
      "outputs": [
        {
          "output_type": "execute_result",
          "data": {
            "text/plain": [
              "array([ 0,  1,  2,  3,  4,  5,  6,  7,  8,  9, 10, 11, 12, 13, 14, 15, 16,\n",
              "       17, 18, 19, 20, 21, 22, 23])"
            ]
          },
          "metadata": {
            "tags": []
          },
          "execution_count": 25
        }
      ]
    },
    {
      "metadata": {
        "id": "PtR1bzcwqQ8B",
        "colab_type": "text"
      },
      "cell_type": "markdown",
      "source": [
        "**flatten 也是展平**\n",
        "\n",
        "flatten函数会请求分配内存来保存结果，而ravel函数只是返回数组的一个视图（view）"
      ]
    },
    {
      "metadata": {
        "id": "zEdhNNFzqQ8C",
        "colab_type": "code",
        "colab": {},
        "outputId": "f70e6413-56d3-497d-fc04-f1d9b1939492"
      },
      "cell_type": "code",
      "source": [
        "b.flatten()"
      ],
      "execution_count": 0,
      "outputs": [
        {
          "output_type": "execute_result",
          "data": {
            "text/plain": [
              "array([ 0,  1,  2,  3,  4,  5,  6,  7,  8,  9, 10, 11, 12, 13, 14, 15, 16,\n",
              "       17, 18, 19, 20, 21, 22, 23])"
            ]
          },
          "metadata": {
            "tags": []
          },
          "execution_count": 26
        }
      ]
    },
    {
      "metadata": {
        "id": "3Qs3qm1MqQ8F",
        "colab_type": "text"
      },
      "cell_type": "markdown",
      "source": [
        "**用元组设置维度**"
      ]
    },
    {
      "metadata": {
        "id": "jeVldtW5qQ8G",
        "colab_type": "code",
        "colab": {}
      },
      "cell_type": "code",
      "source": [
        "b.shape = (6, 4)"
      ],
      "execution_count": 0,
      "outputs": []
    },
    {
      "metadata": {
        "id": "6pVAxRAhqQ8H",
        "colab_type": "code",
        "colab": {},
        "outputId": "820edfb9-c22f-462f-81f1-4bc81223b712"
      },
      "cell_type": "code",
      "source": [
        "b"
      ],
      "execution_count": 0,
      "outputs": [
        {
          "output_type": "execute_result",
          "data": {
            "text/plain": [
              "array([[ 0,  1,  2,  3],\n",
              "       [ 4,  5,  6,  7],\n",
              "       [ 8,  9, 10, 11],\n",
              "       [12, 13, 14, 15],\n",
              "       [16, 17, 18, 19],\n",
              "       [20, 21, 22, 23]])"
            ]
          },
          "metadata": {
            "tags": []
          },
          "execution_count": 28
        }
      ]
    },
    {
      "metadata": {
        "id": "27pl3hZfqQ8J",
        "colab_type": "text"
      },
      "cell_type": "markdown",
      "source": [
        "**transpose转置矩阵**"
      ]
    },
    {
      "metadata": {
        "id": "970chLEwqQ8K",
        "colab_type": "code",
        "colab": {},
        "outputId": "cadaa9b5-2b32-4cf4-d786-ff46f351848f"
      },
      "cell_type": "code",
      "source": [
        "b.transpose()"
      ],
      "execution_count": 0,
      "outputs": [
        {
          "output_type": "execute_result",
          "data": {
            "text/plain": [
              "array([[ 0,  4,  8, 12, 16, 20],\n",
              "       [ 1,  5,  9, 13, 17, 21],\n",
              "       [ 2,  6, 10, 14, 18, 22],\n",
              "       [ 3,  7, 11, 15, 19, 23]])"
            ]
          },
          "metadata": {
            "tags": []
          },
          "execution_count": 29
        }
      ]
    },
    {
      "metadata": {
        "id": "CBrOQNzRqQ8O",
        "colab_type": "text"
      },
      "cell_type": "markdown",
      "source": [
        "**resize和reshape函数功能一样**\n",
        "但resize会直接改变所操作的数组"
      ]
    },
    {
      "metadata": {
        "id": "ksZ7jOz2qQ8Q",
        "colab_type": "code",
        "colab": {},
        "outputId": "dd4dc872-80ef-4d65-8d33-6e9e816e870e"
      },
      "cell_type": "code",
      "source": [
        "b.reshape(2,3,4)"
      ],
      "execution_count": 0,
      "outputs": [
        {
          "output_type": "execute_result",
          "data": {
            "text/plain": [
              "array([[[ 0,  1,  2,  3],\n",
              "        [ 4,  5,  6,  7],\n",
              "        [ 8,  9, 10, 11]],\n",
              "\n",
              "       [[12, 13, 14, 15],\n",
              "        [16, 17, 18, 19],\n",
              "        [20, 21, 22, 23]]])"
            ]
          },
          "metadata": {
            "tags": []
          },
          "execution_count": 30
        }
      ]
    },
    {
      "metadata": {
        "id": "XTIl0qKBqQ8S",
        "colab_type": "code",
        "colab": {},
        "outputId": "a1159e8c-19c9-4f1a-b74e-713a16a87340"
      },
      "cell_type": "code",
      "source": [
        "b"
      ],
      "execution_count": 0,
      "outputs": [
        {
          "output_type": "execute_result",
          "data": {
            "text/plain": [
              "array([[ 0,  1,  2,  3],\n",
              "       [ 4,  5,  6,  7],\n",
              "       [ 8,  9, 10, 11],\n",
              "       [12, 13, 14, 15],\n",
              "       [16, 17, 18, 19],\n",
              "       [20, 21, 22, 23]])"
            ]
          },
          "metadata": {
            "tags": []
          },
          "execution_count": 31
        }
      ]
    },
    {
      "metadata": {
        "id": "jOcoo6D_qQ8V",
        "colab_type": "code",
        "colab": {}
      },
      "cell_type": "code",
      "source": [
        "b.resize(2,12)"
      ],
      "execution_count": 0,
      "outputs": []
    },
    {
      "metadata": {
        "id": "-iGo4B47qQ8Z",
        "colab_type": "code",
        "colab": {},
        "outputId": "078fc3d5-e573-4adb-a5d6-ea5b6cd22dab"
      },
      "cell_type": "code",
      "source": [
        "b"
      ],
      "execution_count": 0,
      "outputs": [
        {
          "output_type": "execute_result",
          "data": {
            "text/plain": [
              "array([[ 0,  1,  2,  3,  4,  5,  6,  7,  8,  9, 10, 11],\n",
              "       [12, 13, 14, 15, 16, 17, 18, 19, 20, 21, 22, 23]])"
            ]
          },
          "metadata": {
            "tags": []
          },
          "execution_count": 33
        }
      ]
    }
  ]
}